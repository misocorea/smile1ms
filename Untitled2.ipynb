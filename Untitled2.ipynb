{
 "cells": [
  {
   "cell_type": "code",
   "execution_count": 18,
   "metadata": {},
   "outputs": [],
   "source": [
    "import pandas as pd\n",
    "import seaborn as sns\n",
    "import numpy as np\n",
    "import matplotlib.pyplot as plt\n",
    "%matplotlib inline"
   ]
  },
  {
   "cell_type": "code",
   "execution_count": 9,
   "metadata": {},
   "outputs": [
    {
     "name": "stdout",
     "output_type": "stream",
     "text": [
      "AgeuponOutcome conversion done.\n"
     ]
    }
   ],
   "source": [
    "def convert_AgeuponOutcome_to_weeks(df):\n",
    "    result = {}\n",
    "    for k in df['AgeuponOutcome'].unique():\n",
    "        if type(k) != type(\"\"):\n",
    "            result[k] = -1\n",
    "        else:\n",
    "            v1, v2 = k.split()\n",
    "            if v2 in [\"year\", \"years\"]:\n",
    "                result[k] = int(v1) * 52\n",
    "            elif v2 in [\"month\", \"months\"]:\n",
    "                result[k] = int(v1) * 4.5\n",
    "            elif v2 in [\"week\", \"weeks\"]:\n",
    "                result[k] = int(v1)\n",
    "            elif v2 in [\"day\", \"days\"]:\n",
    "                result[k] = int(v1) / 7\n",
    "                \n",
    "    df['_AgeuponOutcome'] = df['AgeuponOutcome'].map(result).astype(float)\n",
    "    df = df.drop('AgeuponOutcome', axis = 1)\n",
    "                \n",
    "    return df\n",
    "\n",
    "train_df = convert_AgeuponOutcome_to_weeks(train_df)\n",
    "test_df = convert_AgeuponOutcome_to_weeks(test_df)\n",
    "print(\"AgeuponOutcome conversion done.\")"
   ]
  },
  {
   "cell_type": "code",
   "execution_count": 10,
   "metadata": {},
   "outputs": [
    {
     "name": "stdout",
     "output_type": "stream",
     "text": [
      "<class 'pandas.core.frame.DataFrame'>\n",
      "RangeIndex: 11456 entries, 0 to 11455\n",
      "Data columns (total 9 columns):\n",
      "ID                 11456 non-null int64\n",
      "Name               8231 non-null object\n",
      "DateTime           11456 non-null object\n",
      "AnimalType         11456 non-null object\n",
      "SexuponOutcome     11456 non-null object\n",
      "Breed              11456 non-null object\n",
      "Color              11456 non-null object\n",
      "_AgeuponOutcome    11456 non-null float64\n",
      "_NameFreq          11456 non-null float64\n",
      "dtypes: float64(2), int64(1), object(6)\n",
      "memory usage: 805.6+ KB\n",
      "None\n",
      "<class 'pandas.core.frame.DataFrame'>\n",
      "RangeIndex: 26729 entries, 0 to 26728\n",
      "Data columns (total 11 columns):\n",
      "AnimalID           26729 non-null object\n",
      "Name               19038 non-null object\n",
      "DateTime           26729 non-null object\n",
      "OutcomeType        26729 non-null object\n",
      "OutcomeSubtype     13117 non-null object\n",
      "AnimalType         26729 non-null object\n",
      "SexuponOutcome     26728 non-null object\n",
      "Breed              26729 non-null object\n",
      "Color              26729 non-null object\n",
      "_AgeuponOutcome    26729 non-null float64\n",
      "_NameFreq          26729 non-null float64\n",
      "dtypes: float64(2), object(9)\n",
      "memory usage: 2.2+ MB\n",
      "None\n",
      "Name frequency count done.\n"
     ]
    }
   ],
   "source": [
    "   # add a column with a Name frequency count\n",
    "\n",
    "names = pd.concat([test_df['Name'], train_df['Name']])\n",
    "values = dict(names.value_counts())\n",
    "\n",
    "train_df['_NameFreq'] = train_df['Name'].map(values)\n",
    "test_df['_NameFreq'] = test_df['Name'].map(values)\n",
    "\n",
    "train_df['_NameFreq'] = train_df['_NameFreq'].fillna(99999)\n",
    "test_df['_NameFreq'] = test_df['_NameFreq'].fillna(99999)\n",
    "\n",
    "print(test_df.info())\n",
    "print(train_df.info())\n",
    "\n",
    "print(\"Name frequency count done.\")"
   ]
  },
  {
   "cell_type": "code",
   "execution_count": 11,
   "metadata": {},
   "outputs": [
    {
     "name": "stdout",
     "output_type": "stream",
     "text": [
      "Numerical conversion of features done.\n"
     ]
    }
   ],
   "source": [
    "# convert all of the remaining features to numeric values\n",
    "\n",
    "def convert_to_numeric(df):\n",
    "    for col in ['Name', 'AnimalType', 'SexuponOutcome',\n",
    "                'Breed', 'Color', 'OutcomeType']:\n",
    "        if col in df.columns:\n",
    "            _col = \"_%s\" % (col)\n",
    "            values = df[col].unique()\n",
    "            _values = dict(zip(values, range(len(values))))\n",
    "            df[_col] = df[col].map(_values).astype(int)\n",
    "            df = df.drop(col, axis = 1)\n",
    "    return df\n",
    "\n",
    "train_df = convert_to_numeric(train_df)\n",
    "test_df = convert_to_numeric(test_df)\n",
    "\n",
    "print(\"Numerical conversion of features done.\")"
   ]
  },
  {
   "cell_type": "code",
   "execution_count": 12,
   "metadata": {},
   "outputs": [
    {
     "name": "stdout",
     "output_type": "stream",
     "text": [
      "DateTime column split into parts done.\n"
     ]
    }
   ],
   "source": [
    "# fix the DateTime column\n",
    "\n",
    "def fix_date_time(df):\n",
    "    def extract_field(_df, start, stop):\n",
    "        return _df['DateTime'].map(lambda dt: int(dt[start:stop]))\n",
    "    df['Year'] = extract_field(df,0,4)\n",
    "    df['Month'] = extract_field(df,5,7)\n",
    "    df['Day'] = extract_field(df,8,10)\n",
    "    df['Hour'] = extract_field(df,11,13)\n",
    "    df['Minute'] = extract_field(df,14,16)\n",
    "    \n",
    "    return df.drop(['DateTime'], axis = 1)\n",
    "\n",
    "train_df = fix_date_time(train_df)\n",
    "test_df = fix_date_time(test_df)\n",
    "\n",
    "print(\"DateTime column split into parts done.\")"
   ]
  },
  {
   "cell_type": "code",
   "execution_count": 13,
   "metadata": {},
   "outputs": [
    {
     "name": "stdout",
     "output_type": "stream",
     "text": [
      "<class 'pandas.core.frame.DataFrame'>\n",
      "RangeIndex: 26729 entries, 0 to 26728\n",
      "Data columns (total 14 columns):\n",
      "AnimalID           26729 non-null object\n",
      "_Name              26729 non-null int32\n",
      "_NameFreq          26729 non-null float64\n",
      "_AnimalType        26729 non-null int32\n",
      "_SexuponOutcome    26729 non-null int32\n",
      "_AgeuponOutcome    26729 non-null float64\n",
      "_Breed             26729 non-null int32\n",
      "_Color             26729 non-null int32\n",
      "Year               26729 non-null int64\n",
      "Month              26729 non-null int64\n",
      "Day                26729 non-null int64\n",
      "Hour               26729 non-null int64\n",
      "Minute             26729 non-null int64\n",
      "_OutcomeType       26729 non-null int32\n",
      "dtypes: float64(2), int32(6), int64(5), object(1)\n",
      "memory usage: 2.2+ MB\n",
      "None\n"
     ]
    }
   ],
   "source": [
    "# re-index train_df so that ID is first and Target (_OutcomeType) is last\n",
    "\n",
    "train_df = train_df.reindex(columns = ['AnimalID', '_Name', '_NameFreq',\n",
    "                                       '_AnimalType', '_SexuponOutcome',\n",
    "                                       '_AgeuponOutcome', '_Breed', '_Color',\n",
    "                                       'Year', 'Month', 'Day', 'Hour', 'Minute',\n",
    "                                       '_OutcomeType'])\n",
    "print(train_df.info())"
   ]
  },
  {
   "cell_type": "code",
   "execution_count": 14,
   "metadata": {},
   "outputs": [
    {
     "name": "stdout",
     "output_type": "stream",
     "text": [
      "21383\n",
      "5346\n"
     ]
    }
   ],
   "source": [
    "# split the data into a training set (80%) and a validation set (20%)\n",
    "\n",
    "cut = int(len(train_df) * 0.8)\n",
    "_validation_df = train_df[cut:]\n",
    "_train_df = train_df[:cut]\n",
    "\n",
    "print(len(_train_df))\n",
    "print(len(_validation_df))"
   ]
  },
  {
   "cell_type": "code",
   "execution_count": 15,
   "metadata": {},
   "outputs": [
    {
     "name": "stdout",
     "output_type": "stream",
     "text": [
      "[[0.23575149 0.17671444 0.2567242  0.21744647 0.1133634 ]\n",
      " [0.24151578 0.18907436 0.24397104 0.2314309  0.09400792]\n",
      " [0.24163204 0.21602865 0.19585125 0.22252202 0.12396605]\n",
      " ...\n",
      " [0.23546703 0.18209391 0.23351246 0.22367143 0.12525517]\n",
      " [0.16315222 0.23452682 0.08883499 0.30012701 0.21335896]\n",
      " [0.142658   0.201988   0.14134818 0.29365645 0.22034937]]\n"
     ]
    }
   ],
   "source": [
    "# build a classifier with scikit-learn\n",
    "\n",
    "import sklearn\n",
    "from sklearn.ensemble import AdaBoostClassifier\n",
    "from sklearn.tree import DecisionTreeClassifier\n",
    "\n",
    "A1 = AdaBoostClassifier(DecisionTreeClassifier(max_depth = 2),\n",
    "                        n_estimators = 100,\n",
    "                        learning_rate = 0.1)\n",
    "\n",
    "classifiers = [c.fit(_train_df.values[:,1:-1],\n",
    "                     _train_df.values[:,-1].astype(int)) \\\n",
    "               for c in [A1]]\n",
    "results = [c.predict_proba(_validation_df.values[:,1:-1]) \\\n",
    "           for c in classifiers]\n",
    "print(results[0])"
   ]
  },
  {
   "cell_type": "code",
   "execution_count": 16,
   "metadata": {},
   "outputs": [
    {
     "name": "stdout",
     "output_type": "stream",
     "text": [
      "[1.3768400692976586]\n"
     ]
    }
   ],
   "source": [
    "# calculate the log loss of result\n",
    "\n",
    "from sklearn.metrics import log_loss\n",
    "\n",
    "print([log_loss(_validation_df.values[:,-1].astype(int), r) for r in results])"
   ]
  },
  {
   "cell_type": "code",
   "execution_count": 17,
   "metadata": {},
   "outputs": [
    {
     "name": "stdout",
     "output_type": "stream",
     "text": [
      "          ID  Adoption      Died  Euthanasia  Return_to_owner  Transfer\n",
      "0          1  0.259431  0.151746    0.131017         0.330570  0.127235\n",
      "1          2  0.254188  0.151699    0.145897         0.326564  0.121653\n",
      "2          3  0.267932  0.141946    0.128941         0.341324  0.119857\n",
      "3          4  0.254163  0.149507    0.145492         0.323777  0.127060\n",
      "4          5  0.255446  0.150687    0.145860         0.325609  0.122398\n",
      "5          6  0.240435  0.148808    0.133893         0.336211  0.140654\n",
      "6          7  0.231780  0.156951    0.169878         0.301481  0.139910\n",
      "7          8  0.203742  0.161135    0.178211         0.299555  0.157357\n",
      "8          9  0.251536  0.150331    0.141563         0.320990  0.135580\n",
      "9         10  0.280542  0.146306    0.136396         0.326609  0.110147\n",
      "10        11  0.272173  0.146302    0.129851         0.319663  0.132011\n",
      "11        12  0.241864  0.152204    0.133986         0.338223  0.133723\n",
      "12        13  0.262780  0.144593    0.122912         0.332815  0.136899\n",
      "13        14  0.237908  0.159125    0.132757         0.333172  0.137037\n",
      "14        15  0.249934  0.150082    0.139599         0.316311  0.144073\n",
      "15        16  0.278279  0.144493    0.134522         0.320230  0.122476\n",
      "16        17  0.252034  0.148270    0.142565         0.321841  0.135289\n",
      "17        18  0.279325  0.142149    0.133855         0.318196  0.126475\n",
      "18        19  0.240070  0.153546    0.133565         0.338779  0.134040\n",
      "19        20  0.255780  0.156036    0.119975         0.331136  0.137074\n",
      "20        21  0.250054  0.151445    0.141447         0.321518  0.135536\n",
      "21        22  0.231289  0.161479    0.124785         0.342830  0.139617\n",
      "22        23  0.238495  0.150146    0.130983         0.334357  0.146020\n",
      "23        24  0.230313  0.162330    0.124632         0.343276  0.139449\n",
      "24        25  0.241341  0.150522    0.132710         0.329743  0.145684\n",
      "25        26  0.231879  0.159132    0.127616         0.347685  0.133688\n",
      "26        27  0.243079  0.150540    0.130773         0.328392  0.147215\n",
      "27        28  0.216970  0.164558    0.150643         0.297487  0.170343\n",
      "28        29  0.247396  0.151204    0.138709         0.319435  0.143257\n",
      "29        30  0.247254  0.150673    0.138304         0.319220  0.144548\n",
      "...      ...       ...       ...         ...              ...       ...\n",
      "11426  11427  0.244356  0.147862    0.137729         0.344172  0.125880\n",
      "11427  11428  0.242185  0.150049    0.136534         0.342134  0.129098\n",
      "11428  11429  0.244202  0.148237    0.137527         0.344846  0.125188\n",
      "11429  11430  0.277613  0.143781    0.131930         0.319099  0.127576\n",
      "11430  11431  0.230259  0.162232    0.125500         0.346786  0.135223\n",
      "11431  11432  0.194034  0.137071    0.145393         0.359381  0.164122\n",
      "11432  11433  0.279162  0.142879    0.134955         0.325005  0.117998\n",
      "11433  11434  0.245679  0.152917    0.136520         0.334647  0.130238\n",
      "11434  11435  0.247093  0.148579    0.138936         0.343756  0.121635\n",
      "11435  11436  0.236554  0.159413    0.132258         0.335095  0.136681\n",
      "11436  11437  0.258733  0.157749    0.122225         0.334236  0.127058\n",
      "11437  11438  0.268559  0.146193    0.126879         0.341123  0.117246\n",
      "11438  11439  0.236658  0.162497    0.130930         0.333432  0.136483\n",
      "11439  11440  0.246467  0.152784    0.136572         0.335102  0.129075\n",
      "11440  11441  0.236225  0.159233    0.132171         0.334565  0.137807\n",
      "11441  11442  0.277972  0.146579    0.132802         0.322338  0.120309\n",
      "11442  11443  0.247447  0.146059    0.136681         0.335004  0.134809\n",
      "11443  11444  0.237302  0.151081    0.126969         0.337749  0.146898\n",
      "11444  11445  0.232131  0.161011    0.127958         0.330382  0.148518\n",
      "11445  11446  0.255646  0.153888    0.118731         0.344755  0.126980\n",
      "11446  11447  0.233217  0.160780    0.128603         0.329202  0.148199\n",
      "11447  11448  0.244212  0.151912    0.133321         0.337936  0.132619\n",
      "11448  11449  0.235353  0.163112    0.130563         0.334308  0.136665\n",
      "11449  11450  0.248950  0.150027    0.137843         0.342919  0.120261\n",
      "11450  11451  0.253867  0.146271    0.142295         0.324511  0.133056\n",
      "11451  11452  0.230636  0.162515    0.124715         0.343823  0.138311\n",
      "11452  11453  0.229644  0.162377    0.124264         0.342738  0.140978\n",
      "11453  11454  0.193534  0.137984    0.145347         0.360510  0.162626\n",
      "11454  11455  0.254867  0.147506    0.144484         0.325339  0.127804\n",
      "11455  11456  0.258915  0.152368    0.144910         0.323221  0.120586\n",
      "\n",
      "[11456 rows x 6 columns]\n",
      "Done.\n"
     ]
    }
   ],
   "source": [
    "# re-build the selected classifier on the entire training set\n",
    "\n",
    "ab = classifiers[0].fit(train_df.values[:,1:-1],\n",
    "                        train_df.values[:,-1].astype(int))\n",
    "\n",
    "# and use the classifier on test_df\n",
    "\n",
    "ab_result = ab.predict_proba(test_df.values[:,1:])\n",
    "ab_sub_df = pd.DataFrame(ab_result, columns=['Adoption', 'Died', 'Euthanasia',\n",
    "                                             'Return_to_owner', 'Transfer'])\n",
    "ab_sub_df.insert(0, 'ID', test_df.values[:,0].astype(int))\n",
    "\n",
    "print(ab_sub_df)\n",
    "\n",
    "# write to submission files\n",
    "\n",
    "ab_sub_df.to_csv(\"submission.csv\", index = False)\n",
    "\n",
    "print(\"Done.\")"
   ]
  },
  {
   "cell_type": "code",
   "execution_count": null,
   "metadata": {},
   "outputs": [],
   "source": []
  }
 ],
 "metadata": {
  "kernelspec": {
   "display_name": "Python 3",
   "language": "python",
   "name": "python3"
  },
  "language_info": {
   "codemirror_mode": {
    "name": "ipython",
    "version": 3
   },
   "file_extension": ".py",
   "mimetype": "text/x-python",
   "name": "python",
   "nbconvert_exporter": "python",
   "pygments_lexer": "ipython3",
   "version": "3.6.7"
  }
 },
 "nbformat": 4,
 "nbformat_minor": 2
}
